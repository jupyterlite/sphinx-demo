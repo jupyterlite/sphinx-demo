{
    "nbformat": 4,
    "nbformat_minor": 5,
    "metadata": {
        "kernelspec": {
            "display_name": "Python",
            "language": "python",
            "name": "python"
        },
        "language_info": {
            "name": "python"
        }
    },
    "cells": [
        {
            "id": "d03dc900",
            "cell_type": "markdown",
            "source": "<div class='alert alert-warning'>\n\nThis interactive example is experimental. Please report any issues you may find to the JupyterLite team via [the issue tracker](https://github.com/jupyterlite/sphinx-demo/issues/new). Thank you!\n\n</div>",
            "metadata": {}
        },
        {
            "id": "e8f8cccc",
            "cell_type": "markdown",
            "source": "Simulate a damped harmonic oscillator, governed by the second-order\ndifferential equation:\n\n$$ \\frac{d^2\\theta}{dt^2} + \\frac{g}{L}\\sin(\\theta) = 0 $$\nwhere\n\n1. $\\theta$ is the angle from the vertical position\n2. $g$ is the acceleration due to gravity\n3. $L$ is the length of the pendulum\n",
            "metadata": {}
        },
        {
            "id": "5310991c",
            "cell_type": "code",
            "metadata": {},
            "execution_count": null,
            "source": "import numpy as np\nfrom scipy.integrate import solve_ivp\nimport matplotlib.pyplot as plt\n\ndef harmonic_oscillator(t, y, k=1.0, m=1.0, c=0.1):\n    # Simple harmonic oscillator with damping\n    # y[0] is position, y[1] is velocity\n    return [y[1], -k/m * y[0] - c/m * y[1]]\n\n# Initial conditions: position = 1, velocity = 0\ny0 = [1.0, 0.0]\n\n### Solving the ODE\nt_span = (0, 20)\nt_eval = np.linspace(t_span[0], t_span[1], 500)\nsol = solve_ivp(harmonic_oscillator, t_span, y0, method='RK45', t_eval=t_eval)\n\n### Plotting the results\nplt.figure(figsize=(10, 6))\nplt.subplot(2, 1, 1)\nplt.plot(sol.t, sol.y[0])\nplt.title('Damped Harmonic Oscillator')\nplt.ylabel('Position')\nplt.grid(True)\n\nplt.subplot(2, 1, 2)\nplt.plot(sol.t, sol.y[1])\nplt.xlabel('Time (s)')\nplt.ylabel('Velocity')\nplt.grid(True)\nplt.tight_layout()\nplt.show()\n\n# A phase space plot\nplt.figure(figsize=(8, 8))\nplt.plot(sol.y[0], sol.y[1])\nplt.title('Phase Space')\nplt.xlabel('Position')\nplt.ylabel('Velocity')\nplt.grid(True)\nplt.axis('equal')\nplt.show()",
            "outputs": []
        }
    ]
}