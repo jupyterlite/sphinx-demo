{
    "nbformat": 4,
    "nbformat_minor": 5,
    "metadata": {
        "kernelspec": {
            "display_name": "Python",
            "language": "python",
            "name": "python"
        },
        "language_info": {
            "name": "python"
        }
    },
    "cells": [
        {
            "id": "8a3901d8",
            "cell_type": "markdown",
            "source": "<div class='alert alert-warning'>\n\nThis interactive example is experimental. Please report any issues you may find to the JupyterLite team via [the issue tracker](https://github.com/jupyterlite/sphinx-demo/issues/new). Thank you!\n\n</div>",
            "metadata": {}
        },
        {
            "id": "c98ddb4c",
            "cell_type": "markdown",
            "source": "Generate and analyze random data:\n",
            "metadata": {}
        },
        {
            "id": "32bb6d37",
            "cell_type": "code",
            "metadata": {},
            "execution_count": null,
            "source": "import numpy as np\nimport pandas as pd\nnp.random.seed(42)\ndata = np.random.normal(loc=5, scale=2, size=1000)\n\n# Calculate statistics using NumPy\nmean = np.mean(data)\nmedian = np.median(data)\nstd = np.std(data)\nmin_val = np.min(data)\nmax_val = np.max(data)\n\nprint(f\"Mean: {mean:.2f}, Median: {median:.2f}\")",
            "outputs": [
                {
                    "output_type": "execute_result",
                    "metadata": {},
                    "data": {
                        "text/plain": "Mean: 5.04, Median: 5.04"
                    },
                    "execution_count": null
                }
            ]
        },
        {
            "id": "2538ba27",
            "cell_type": "markdown",
            "source": "Create and explore a DataFrame:\n",
            "metadata": {}
        },
        {
            "id": "e5325fc4",
            "cell_type": "code",
            "metadata": {},
            "execution_count": null,
            "source": "df = pd.DataFrame({\n    'temperature': np.random.normal(25, 5, 100),\n    'humidity': np.random.normal(60, 10, 100)\n})\nprint(df.describe())",
            "outputs": [
                {
                    "output_type": "execute_result",
                    "metadata": {},
                    "data": {
                        "text/plain": "       temperature     humidity\ncount  100.000000  100.000000\nmean    25.227...   59.935...\nstd      4.916...    9.076...\nmin     15.090...   36.670...\n25%     21.421...   53.133...\n50%     25.354...   60.585...\n75%     28.752...   65.789...\nmax     37.937...   82.882..."
                    },
                    "execution_count": null
                }
            ]
        },
        {
            "id": "58e4c512",
            "cell_type": "markdown",
            "source": "Visualize the data with a histogram and KDE:\n",
            "metadata": {}
        },
        {
            "id": "8f653a61",
            "cell_type": "code",
            "metadata": {},
            "execution_count": null,
            "source": "import matplotlib.pyplot as plt\nfrom scipy import stats\nplt.figure(figsize=(10, 6))\nplt.hist(data, bins=20, alpha=0.7, density=True)\nx = np.linspace(data.min(), data.max(), 100)\nkde = stats.gaussian_kde(data)\nplt.plot(x, kde(x), 'r-', linewidth=2)\nplt.title('Data Distribution')\nplt.xlabel('Value')\nplt.ylabel('Density')\nplt.grid(True, alpha=0.3)\nplt.show()",
            "outputs": []
        }
    ]
}