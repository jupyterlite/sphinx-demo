{
    "nbformat": 4,
    "nbformat_minor": 5,
    "metadata": {
        "kernelspec": {
            "display_name": "Python",
            "language": "python",
            "name": "python"
        },
        "language_info": {
            "name": "python"
        }
    },
    "cells": [
        {
            "id": "bee472cd",
            "cell_type": "markdown",
            "source": "<div class='alert alert-warning'>\n\nThis interactive example is experimental. Please report any issues you may find to the JupyterLite team via [the issue tracker](https://github.com/jupyterlite/sphinx-demo/issues/new). Thank you!\n\n</div>",
            "metadata": {}
        },
        {
            "id": "3f62dd14",
            "cell_type": "markdown",
            "source": "Use NumPy to create and analyze a sequence:\n",
            "metadata": {}
        },
        {
            "id": "e3578544",
            "cell_type": "code",
            "metadata": {},
            "execution_count": null,
            "source": "import numpy as np\nimport matplotlib.pyplot as plt\n# Create a sequence\nx = np.arange(1, 11)\ny = np.power(x, 2)\nprint(y)",
            "outputs": [
                {
                    "output_type": "execute_result",
                    "metadata": {},
                    "data": {
                        "text/plain": "[  1   4   9  16  25  36  49  64  81 100]"
                    },
                    "execution_count": null
                }
            ]
        },
        {
            "id": "df74cb34",
            "cell_type": "markdown",
            "source": "Plot the sequence:\n",
            "metadata": {}
        },
        {
            "id": "1342c18d",
            "cell_type": "code",
            "metadata": {},
            "execution_count": null,
            "source": "plt.figure(figsize=(8, 4))\nplt.plot(x, y, 'o-', linewidth=2)\nplt.title('Square Numbers')\nplt.xlabel('n')\nplt.ylabel('n²')\nplt.grid(True)\nplt.show()",
            "outputs": []
        }
    ]
}