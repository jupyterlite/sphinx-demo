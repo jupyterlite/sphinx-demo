{
    "nbformat": 4,
    "nbformat_minor": 5,
    "metadata": {
        "kernelspec": {
            "display_name": "Python",
            "language": "python",
            "name": "python"
        },
        "language_info": {
            "name": "python"
        }
    },
    "cells": [
        {
            "id": "4b7679fa",
            "cell_type": "markdown",
            "source": "<div class='alert alert-warning'>\n\nThis interactive example is experimental. Please report any issues you may find to the JupyterLite team via [the issue tracker](https://github.com/jupyterlite/sphinx-demo/issues/new). Thank you!\n\n</div>",
            "metadata": {}
        },
        {
            "id": "e66aef87",
            "cell_type": "markdown",
            "source": "Square some numbers:\n",
            "metadata": {}
        },
        {
            "id": "7f4d1b35",
            "cell_type": "code",
            "metadata": {},
            "execution_count": null,
            "source": "square_number(4)",
            "outputs": [
                {
                    "output_type": "execute_result",
                    "metadata": {},
                    "data": {
                        "text/plain": "16"
                    },
                    "execution_count": null
                }
            ]
        },
        {
            "id": "35deeeed",
            "cell_type": "code",
            "metadata": {},
            "execution_count": null,
            "source": "square_number(2.5)",
            "outputs": [
                {
                    "output_type": "execute_result",
                    "metadata": {},
                    "data": {
                        "text/plain": "6.25"
                    },
                    "execution_count": null
                }
            ]
        },
        {
            "id": "7575ed30",
            "cell_type": "markdown",
            "source": "Use with a list comprehension:\n",
            "metadata": {}
        },
        {
            "id": "c2b8d7a9",
            "cell_type": "code",
            "metadata": {},
            "execution_count": null,
            "source": "numbers = [1, 2, 3, 4, 5]\nsquares = [square_number(n) for n in numbers]\nprint(squares)",
            "outputs": [
                {
                    "output_type": "execute_result",
                    "metadata": {},
                    "data": {
                        "text/plain": "[1, 4, 9, 16, 25]"
                    },
                    "execution_count": null
                }
            ]
        }
    ]
}