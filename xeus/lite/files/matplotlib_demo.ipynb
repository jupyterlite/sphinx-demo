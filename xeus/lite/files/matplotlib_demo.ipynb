{
 "cells": [
  {
   "cell_type": "markdown",
   "id": "beaa5f79",
   "metadata": {},
   "source": [
    "# Notebook-based interactive example\n",
    "\n",
    "This is an example page to demonstrate how `jupyterlite-sphinx` can be used to create buttons (as noted above) that open a JupyterLite deployment based on Sphinx documentation pages where either the [`.. jupyterlite::`](https://jupyterlite-sphinx.readthedocs.io/en/stable/directives/jupyterlite.html) or the [`.. notebooklite::`](https://jupyterlite-sphinx.readthedocs.io/en/stable/directives/notebooklite.html) directives are used. Here, we use a [MyST Markdown notebook](https://myst-nb.readthedocs.io/en/v0.9.1/use/markdown.html), however, traditional notebooks based on the `.ipynb` file format are also supported.\n",
    "\n",
    "## Matplotlib interactive demo\n",
    "\n",
    "## Plotting in JupyterLite\n",
    "\n",
    "The packages used in this notebook are NumPy and `matplotlib`, which are available in [the emscripten-forge channel](https://beta.mamba.pm/channels/emscripten-forge).\n",
    "They are pre-installed into the deployment using the `ennvironment.yml` file in the docs source directory for the Xeus kernel to load. Once the kernel is started, the packages are available for use right away.\n",
    "\n",
    "Any extra packages must be pre-installed into the environment before the JupyterLite deployment is built as a part of the Sphinx build process."
   ]
  },
  {
   "cell_type": "code",
   "execution_count": null,
   "id": "1afc40b2",
   "metadata": {},
   "outputs": [],
   "source": [
    "import matplotlib.pyplot as plt\n",
    "import numpy as np\n",
    "\n",
    "np.random.seed(0)\n",
    "\n",
    "n = 100\n",
    "\n",
    "x = list(range(n))\n",
    "y = np.cumsum(np.random.randn(n)) + 100.\n",
    "\n",
    "plt.figure(figsize=(10, 6))\n",
    "plt.plot(x, y)\n",
    "plt.xlabel('Index')\n",
    "plt.ylabel('Value')\n",
    "plt.title('Lines')\n",
    "plt.grid(True)\n",
    "plt.show()"
   ]
  },
  {
   "cell_type": "code",
   "execution_count": null,
   "id": "ae8c1998",
   "metadata": {},
   "outputs": [],
   "source": [
    "# Update the line plot with green color, markers and fill\n",
    "plt.figure(figsize=(10, 6))\n",
    "plt.plot(x, y, color='green', marker='o')\n",
    "plt.fill_between(x, y, min(y), color='green', alpha=0.3)\n",
    "plt.xlabel('Index')\n",
    "plt.ylabel('Value')\n",
    "plt.title('Lines')\n",
    "plt.grid(True)\n",
    "plt.show()"
   ]
  },
  {
   "cell_type": "code",
   "execution_count": null,
   "id": "e110a92d",
   "metadata": {},
   "outputs": [],
   "source": [
    "n = 100\n",
    "\n",
    "x = list(range(n))\n",
    "y = np.cumsum(np.random.randn(n))\n",
    "\n",
    "plt.figure(figsize=(10, 6))\n",
    "plt.bar(x, y)\n",
    "plt.xlabel('Index')\n",
    "plt.ylabel('Value')\n",
    "plt.title('Bars')\n",
    "plt.grid(True, axis='y')\n",
    "plt.show()"
   ]
  },
  {
   "cell_type": "code",
   "execution_count": null,
   "id": "ed8a2b33",
   "metadata": {},
   "outputs": [],
   "source": [
    "# Update the bars with new random data\n",
    "new_y = np.cumsum(np.random.randn(n))\n",
    "plt.figure(figsize=(10, 6))\n",
    "plt.bar(x, new_y)\n",
    "plt.xlabel('Index')\n",
    "plt.ylabel('Value')\n",
    "plt.title('Bars')\n",
    "plt.grid(True, axis='y')\n",
    "plt.show()"
   ]
  },
  {
   "cell_type": "markdown",
   "id": "933e2325",
   "metadata": {},
   "source": [
    "### Multiple line plots"
   ]
  },
  {
   "cell_type": "code",
   "execution_count": null,
   "id": "ca31dfb2",
   "metadata": {},
   "outputs": [],
   "source": [
    "import numpy as np\n",
    "import matplotlib.pyplot as plt\n",
    "\n",
    "np.random.seed(0)\n",
    "y1 = np.cumsum(np.random.randn(150)) + 100.\n",
    "y2 = np.cumsum(np.random.randn(150)) + 100.\n",
    "y3 = np.cumsum(np.random.randn(150)) + 100.\n",
    "y4 = np.cumsum(np.random.randn(150)) + 100.\n",
    "\n",
    "x = np.arange(len(y1))\n",
    "\n",
    "plt.figure(figsize=(12, 7))\n",
    "plt.plot(x, y1, label='Series 1')\n",
    "plt.plot(x, y2, label='Series 2')\n",
    "plt.plot(x, y3, label='Series 3')\n",
    "plt.plot(x, y4, label='Series 4')\n",
    "plt.xlabel('Index')\n",
    "plt.ylabel('Value')\n",
    "plt.title('Lines')\n",
    "plt.legend()\n",
    "plt.grid(True)\n",
    "plt.show()"
   ]
  }
 ],
 "metadata": {
  "jupytext": {
   "text_representation": {
    "extension": ".md",
    "format_name": "myst",
    "format_version": 0.13,
    "jupytext_version": "1.17.0"
   }
  }
 },
 "nbformat": 4,
 "nbformat_minor": 5
}
