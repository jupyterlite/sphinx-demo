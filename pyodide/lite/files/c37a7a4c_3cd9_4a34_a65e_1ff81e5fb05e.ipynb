{
    "nbformat": 4,
    "nbformat_minor": 5,
    "metadata": {
        "kernelspec": {
            "display_name": "Python",
            "language": "python",
            "name": "python"
        },
        "language_info": {
            "name": "python"
        }
    },
    "cells": [
        {
            "id": "baf5bd2c",
            "cell_type": "markdown",
            "source": "<div class='alert alert-warning'>\n\nThis interactive example is experimental. Please report any issues you may find to the JupyterLite team via [the issue tracker](https://github.com/jupyterlite/sphinx-demo/issues/new). Thank you!\n\n</div>",
            "metadata": {}
        },
        {
            "id": "ebb32053",
            "cell_type": "markdown",
            "source": "Square some numbers:\n",
            "metadata": {}
        },
        {
            "id": "be35af23",
            "cell_type": "code",
            "metadata": {},
            "execution_count": null,
            "source": "square_number(4)",
            "outputs": [
                {
                    "output_type": "execute_result",
                    "metadata": {},
                    "data": {
                        "text/plain": "16"
                    },
                    "execution_count": null
                }
            ]
        },
        {
            "id": "875d8541",
            "cell_type": "code",
            "metadata": {},
            "execution_count": null,
            "source": "square_number(2.5)",
            "outputs": [
                {
                    "output_type": "execute_result",
                    "metadata": {},
                    "data": {
                        "text/plain": "6.25"
                    },
                    "execution_count": null
                }
            ]
        },
        {
            "id": "b61ce6b0",
            "cell_type": "markdown",
            "source": "Use with a list comprehension:\n",
            "metadata": {}
        },
        {
            "id": "5fc039ed",
            "cell_type": "code",
            "metadata": {},
            "execution_count": null,
            "source": "numbers = [1, 2, 3, 4, 5]\nsquares = [square_number(n) for n in numbers]\nprint(squares)",
            "outputs": [
                {
                    "output_type": "execute_result",
                    "metadata": {},
                    "data": {
                        "text/plain": "[1, 4, 9, 16, 25]"
                    },
                    "execution_count": null
                }
            ]
        }
    ]
}