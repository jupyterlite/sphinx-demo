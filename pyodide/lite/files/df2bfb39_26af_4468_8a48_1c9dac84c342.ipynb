{
    "nbformat": 4,
    "nbformat_minor": 5,
    "metadata": {
        "kernelspec": {
            "display_name": "Python",
            "language": "python",
            "name": "python"
        },
        "language_info": {
            "name": "python"
        }
    },
    "cells": [
        {
            "id": "02e5c498",
            "cell_type": "markdown",
            "source": "<div class='alert alert-warning'>\n\nThis interactive example is experimental. Please report any issues you may find to the JupyterLite team via [the issue tracker](https://github.com/jupyterlite/sphinx-demo/issues/new). Thank you!\n\n</div>",
            "metadata": {}
        },
        {
            "id": "7f2d00e6",
            "cell_type": "markdown",
            "source": "Use NumPy to create and analyze a sequence:\n",
            "metadata": {}
        },
        {
            "id": "06d0614d",
            "cell_type": "code",
            "metadata": {},
            "execution_count": null,
            "source": "import numpy as np\nimport matplotlib.pyplot as plt\n# Create a sequence\nx = np.arange(1, 11)\ny = np.power(x, 2)\nprint(y)",
            "outputs": [
                {
                    "output_type": "execute_result",
                    "metadata": {},
                    "data": {
                        "text/plain": "[  1   4   9  16  25  36  49  64  81 100]"
                    },
                    "execution_count": null
                }
            ]
        },
        {
            "id": "ba43508f",
            "cell_type": "markdown",
            "source": "Plot the sequence:\n",
            "metadata": {}
        },
        {
            "id": "90b87f78",
            "cell_type": "code",
            "metadata": {},
            "execution_count": null,
            "source": "plt.figure(figsize=(8, 4))\nplt.plot(x, y, 'o-', linewidth=2)\nplt.title('Square Numbers')\nplt.xlabel('n')\nplt.ylabel('n²')\nplt.grid(True)\nplt.show()",
            "outputs": []
        }
    ]
}