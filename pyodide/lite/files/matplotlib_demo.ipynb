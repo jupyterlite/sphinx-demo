{
 "cells": [
  {
   "cell_type": "markdown",
   "id": "5fd3fe1e",
   "metadata": {},
   "source": [
    "# Notebook-based interactive example\n",
    "\n",
    "This is an example page to demonstrate how `jupyterlite-sphinx` can be used to create buttons (as noted above) that open a JupyterLite deployment based on Sphinx documentation pages where either the [`.. jupyterlite::`](https://jupyterlite-sphinx.readthedocs.io/en/stable/directives/jupyterlite.html) or the [`.. notebooklite::`](https://jupyterlite-sphinx.readthedocs.io/en/stable/directives/notebooklite.html) directives are used. Here, we use a [MyST Markdown notebook](https://myst-nb.readthedocs.io/en/v0.9.1/use/markdown.html), however, traditional notebooks based on the `.ipynb` file format are also supported.\n",
    "\n",
    "## Matplotlib interactive demo\n",
    "\n",
    "## Plotting in JupyterLite\n",
    "\n",
    "The `jupyterlite-pyodide-kernel` can install packages in a cell based on `import <...>` statements, if the importable name of the package is the same as the package name in the Pyodide package index or on PyPI (and the package exists in either of them).\n",
    "\n",
    "Thus, the below example will work in this deployment, but you may also install any other package(s) on your own using a `import piplite; await piplite.install([\"mypackage\"])` statement, or, better, a `%pip install mypackage` cell magic."
   ]
  },
  {
   "cell_type": "code",
   "execution_count": null,
   "id": "3037758e",
   "metadata": {},
   "outputs": [],
   "source": [
    "import matplotlib.pyplot as plt\n",
    "import numpy as np\n",
    "\n",
    "np.random.seed(0)\n",
    "\n",
    "n = 100\n",
    "\n",
    "x = list(range(n))\n",
    "y = np.cumsum(np.random.randn(n)) + 100\n",
    "\n",
    "plt.figure(figsize=(10, 6))\n",
    "plt.plot(x, y)\n",
    "plt.xlabel('Index')\n",
    "plt.ylabel('Value')\n",
    "plt.title('Line Plot')\n",
    "plt.grid(True)\n",
    "plt.show()"
   ]
  },
  {
   "cell_type": "code",
   "execution_count": null,
   "id": "0553341d",
   "metadata": {},
   "outputs": [],
   "source": [
    "plt.figure(figsize=(10, 6))\n",
    "plt.plot(x, y, 'g-', marker='o', fillstyle='full')\n",
    "plt.fill_between(x, y, min(y), color='green', alpha=0.3)\n",
    "plt.xlabel('Index')\n",
    "plt.ylabel('Value')\n",
    "plt.title('Line Plot with Fill and Markers')\n",
    "plt.grid(True)\n",
    "plt.show()"
   ]
  },
  {
   "cell_type": "code",
   "execution_count": null,
   "id": "fd82de43",
   "metadata": {},
   "outputs": [],
   "source": [
    "n = 100\n",
    "\n",
    "x = list(range(n))\n",
    "y = np.cumsum(np.random.randn(n))\n",
    "\n",
    "plt.figure(figsize=(10, 6))\n",
    "plt.bar(x, y, width=0.8)\n",
    "plt.xlabel('Index')\n",
    "plt.ylabel('Value')\n",
    "plt.title('Bar Chart')\n",
    "plt.grid(True, axis='y')\n",
    "plt.show()"
   ]
  },
  {
   "cell_type": "code",
   "execution_count": null,
   "id": "5a68749b",
   "metadata": {},
   "outputs": [],
   "source": [
    "# Update the bar chart with new data\n",
    "y_new = np.cumsum(np.random.randn(n))\n",
    "\n",
    "plt.figure(figsize=(10, 6))\n",
    "plt.bar(x, y_new, width=0.8, color='orange')\n",
    "plt.xlabel('Index')\n",
    "plt.ylabel('Value')\n",
    "plt.title('Updated Bar Chart')\n",
    "plt.grid(True, axis='y')\n",
    "plt.show()"
   ]
  },
  {
   "cell_type": "markdown",
   "id": "eb16afcd",
   "metadata": {},
   "source": [
    "### Multiple line plots"
   ]
  },
  {
   "cell_type": "code",
   "execution_count": null,
   "id": "01e692ca",
   "metadata": {},
   "outputs": [],
   "source": [
    "import numpy as np\n",
    "import matplotlib.pyplot as plt\n",
    "\n",
    "np.random.seed(0)\n",
    "y1 = np.cumsum(np.random.randn(150)) + 100.\n",
    "y2 = np.cumsum(np.random.randn(150)) + 100.\n",
    "y3 = np.cumsum(np.random.randn(150)) + 100.\n",
    "y4 = np.cumsum(np.random.randn(150)) + 100.\n",
    "\n",
    "x = np.arange(len(y1))\n",
    "\n",
    "plt.figure(figsize=(12, 7))\n",
    "plt.plot(x, y1, label='Series 1')\n",
    "plt.plot(x, y2, label='Series 2')\n",
    "plt.plot(x, y3, label='Series 3')\n",
    "plt.plot(x, y4, label='Series 4')\n",
    "plt.xlabel('Index')\n",
    "plt.ylabel('Value')\n",
    "plt.title('Multiple Line Series')\n",
    "plt.legend()\n",
    "plt.grid(True)\n",
    "plt.show()"
   ]
  }
 ],
 "metadata": {
  "jupytext": {
   "text_representation": {
    "extension": ".md",
    "format_name": "myst",
    "format_version": 0.13,
    "jupytext_version": "1.17.0"
   }
  }
 },
 "nbformat": 4,
 "nbformat_minor": 5
}
